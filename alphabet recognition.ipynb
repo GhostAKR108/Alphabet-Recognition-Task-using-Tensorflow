{
  "nbformat": 4,
  "nbformat_minor": 0,
  "metadata": {
    "colab": {
      "provenance": []
    },
    "kernelspec": {
      "name": "python3",
      "display_name": "Python 3"
    },
    "language_info": {
      "name": "python"
    }
  },
  "cells": [
    {
      "cell_type": "code",
      "execution_count": null,
      "metadata": {
        "colab": {
          "base_uri": "https://localhost:8080/"
        },
        "id": "fbZHBwaf7AMp",
        "outputId": "31f19828-dbfe-4de1-d6e8-2d8fd0c4d5ed"
      },
      "outputs": [
        {
          "output_type": "stream",
          "name": "stdout",
          "text": [
            "Mounted at /content/drive\n",
            "<class 'pandas.core.frame.DataFrame'>\n",
            "RangeIndex: 372450 entries, 0 to 372449\n",
            "Columns: 785 entries, 0 to 0.648\n",
            "dtypes: int64(785)\n",
            "memory usage: 2.2 GB\n"
          ]
        }
      ],
      "source": [
        "import numpy as np\n",
        "import pandas as pd\n",
        "import matplotlib.pyplot as plt\n",
        "import tensorflow as tf\n",
        "from sklearn.model_selection import train_test_split\n",
        "from tensorflow.keras.preprocessing.image import ImageDataGenerator\n",
        "from tensorflow.keras.models import Sequential\n",
        "from tensorflow.keras.layers import Dense, Dropout, Flatten, Conv2D, MaxPooling2D\n",
        "from tensorflow.keras.optimizers import Adam\n",
        "from google.colab import drive\n",
        "drive.mount('/content/drive')\n",
        "df = pd.read_csv('/content/drive/MyDrive/A_Z Handwritten Data.csv')\n",
        "df.info()"
      ]
    },
    {
      "cell_type": "code",
      "source": [
        "df['0'].unique()\n"
      ],
      "metadata": {
        "colab": {
          "base_uri": "https://localhost:8080/"
        },
        "id": "WGAaYM84OUt_",
        "outputId": "f4116f83-3e77-4476-bc32-57a86e06b8a6"
      },
      "execution_count": null,
      "outputs": [
        {
          "output_type": "execute_result",
          "data": {
            "text/plain": [
              "array([ 0,  1,  2,  3,  4,  5,  6,  7,  8,  9, 10, 11, 12, 13, 14, 15, 16,\n",
              "       17, 18, 19, 20, 21, 22, 23, 24, 25])"
            ]
          },
          "metadata": {},
          "execution_count": 5
        }
      ]
    },
    {
      "cell_type": "code",
      "source": [
        "classes = {i:chr(i+65) for i in range(26)}\n",
        "classes"
      ],
      "metadata": {
        "colab": {
          "base_uri": "https://localhost:8080/"
        },
        "id": "d4572kEHOZvU",
        "outputId": "5bdd03d4-7f9a-46e2-ef7c-707336f2eabe"
      },
      "execution_count": null,
      "outputs": [
        {
          "output_type": "execute_result",
          "data": {
            "text/plain": [
              "{0: 'A',\n",
              " 1: 'B',\n",
              " 2: 'C',\n",
              " 3: 'D',\n",
              " 4: 'E',\n",
              " 5: 'F',\n",
              " 6: 'G',\n",
              " 7: 'H',\n",
              " 8: 'I',\n",
              " 9: 'J',\n",
              " 10: 'K',\n",
              " 11: 'L',\n",
              " 12: 'M',\n",
              " 13: 'N',\n",
              " 14: 'O',\n",
              " 15: 'P',\n",
              " 16: 'Q',\n",
              " 17: 'R',\n",
              " 18: 'S',\n",
              " 19: 'T',\n",
              " 20: 'U',\n",
              " 21: 'V',\n",
              " 22: 'W',\n",
              " 23: 'X',\n",
              " 24: 'Y',\n",
              " 25: 'Z'}"
            ]
          },
          "metadata": {},
          "execution_count": 6
        }
      ]
    },
    {
      "cell_type": "code",
      "source": [
        "\n",
        "y = df.values[:, 0] #first column of csv file are the labels\n",
        "x = df.values[:, 1:] #all row values after column A are pixel values of the image which serve as data set examples"
      ],
      "metadata": {
        "id": "dSCDHtzXOnr4"
      },
      "execution_count": null,
      "outputs": []
    },
    {
      "cell_type": "code",
      "source": [
        "# reshape images\n",
        "x = np.reshape(x, (x.shape[0], 28, 28, 1))"
      ],
      "metadata": {
        "id": "8VpJKdioYkvR"
      },
      "execution_count": null,
      "outputs": []
    },
    {
      "cell_type": "code",
      "source": [
        "# split data\n",
        "x_train, x_test, y_train, y_test = train_test_split(x, y, test_size=0.2)"
      ],
      "metadata": {
        "id": "DGX_lV9sYoo7"
      },
      "execution_count": null,
      "outputs": []
    },
    {
      "cell_type": "code",
      "source": [
        "# basically it creates variations of image to get better accuracy\n",
        "datagen_train = ImageDataGenerator(rescale=1./255,\n",
        "                                   validation_split=0.2,\n",
        "                                   rotation_range=15,\n",
        "                                   width_shift_range=0.1,\n",
        "                                   height_shift_range=0.1,\n",
        "                                   shear_range=0.1,\n",
        "                                   zoom_range=0.2,\n",
        "                                   horizontal_flip=False,\n",
        "                                   fill_mode='nearest')\n",
        "datagen_test = ImageDataGenerator(rescale=1./255)"
      ],
      "metadata": {
        "id": "3szC_qvMYtxM"
      },
      "execution_count": null,
      "outputs": []
    },
    {
      "cell_type": "code",
      "source": [
        "#splitting the dataset into 3 parts : training set, cv set and test set\n",
        "data_train = datagen_train.flow(x_train, y_train, subset='training',\n",
        "                                batch_size=64, shuffle=True)\n",
        "data_valid = datagen_train.flow(x_train, y_train, subset='validation',\n",
        "                                batch_size=64, shuffle=True)\n",
        "data_test = datagen_test.flow(x_test, y_test, batch_size=1, shuffle=False)"
      ],
      "metadata": {
        "id": "ktcVNAPPYvc4"
      },
      "execution_count": null,
      "outputs": []
    },
    {
      "cell_type": "code",
      "source": [
        "#describing CNN hidden and output layers along with activation functions of each layer\n",
        "#we will use VGG-16 CNN for this purpose\n",
        "model = Sequential([\n",
        "                Conv2D(8, (3,3), activation='relu', input_shape=(28, 28, 1)),\n",
        "                MaxPooling2D(pool_size=(2,2)),\n",
        "                Conv2D(16, (3,3), activation='relu'),\n",
        "                MaxPooling2D(pool_size=(2,2)),\n",
        "                Flatten(),\n",
        "                Dense(512, activation='relu'),\n",
        "                Dense(26, activation='softmax')])  # 26 = total english letters\n",
        "model.summary()"
      ],
      "metadata": {
        "colab": {
          "base_uri": "https://localhost:8080/"
        },
        "id": "VKH8h3VeY3eM",
        "outputId": "0d46ed82-6009-4ee7-e44f-0fcb4a13ff4e"
      },
      "execution_count": null,
      "outputs": [
        {
          "output_type": "stream",
          "name": "stdout",
          "text": [
            "Model: \"sequential\"\n",
            "_________________________________________________________________\n",
            " Layer (type)                Output Shape              Param #   \n",
            "=================================================================\n",
            " conv2d (Conv2D)             (None, 26, 26, 8)         80        \n",
            "                                                                 \n",
            " max_pooling2d (MaxPooling2D  (None, 13, 13, 8)        0         \n",
            " )                                                               \n",
            "                                                                 \n",
            " conv2d_1 (Conv2D)           (None, 11, 11, 16)        1168      \n",
            "                                                                 \n",
            " max_pooling2d_1 (MaxPooling  (None, 5, 5, 16)         0         \n",
            " 2D)                                                             \n",
            "                                                                 \n",
            " flatten (Flatten)           (None, 400)               0         \n",
            "                                                                 \n",
            " dense (Dense)               (None, 512)               205312    \n",
            "                                                                 \n",
            " dense_1 (Dense)             (None, 26)                13338     \n",
            "                                                                 \n",
            "=================================================================\n",
            "Total params: 219,898\n",
            "Trainable params: 219,898\n",
            "Non-trainable params: 0\n",
            "_________________________________________________________________\n"
          ]
        }
      ]
    },
    {
      "cell_type": "code",
      "source": [
        "# using RMSprop as alpha optimiser and establishing loss function\n",
        "model.compile(optimizer=Adam(learning_rate=1e-5),\n",
        "              loss='sparse_categorical_crossentropy',\n",
        "              metrics=['accuracy'])"
      ],
      "metadata": {
        "id": "TNX5dttlY6JD"
      },
      "execution_count": null,
      "outputs": []
    },
    {
      "cell_type": "code",
      "source": [
        "# fit model\n",
        "history = model.fit(data_train,\n",
        "                    epochs=10,\n",
        "                    validation_data=data_valid,\n",
        "                    steps_per_epoch=700,\n",
        "                    validation_steps=50,\n",
        "                    verbose=2)"
      ],
      "metadata": {
        "colab": {
          "base_uri": "https://localhost:8080/"
        },
        "id": "l3XRJ34QY_Z8",
        "outputId": "7ece8564-553c-40f1-d614-8bafe40e16a8"
      },
      "execution_count": null,
      "outputs": [
        {
          "output_type": "stream",
          "name": "stdout",
          "text": [
            "Epoch 1/10\n",
            "700/700 - 38s - loss: 2.9958 - accuracy: 0.1859 - val_loss: 2.7509 - val_accuracy: 0.2384 - 38s/epoch - 55ms/step\n",
            "Epoch 2/10\n",
            "700/700 - 37s - loss: 2.6376 - accuracy: 0.2707 - val_loss: 2.4903 - val_accuracy: 0.3341 - 37s/epoch - 52ms/step\n",
            "Epoch 3/10\n",
            "700/700 - 37s - loss: 2.3572 - accuracy: 0.3647 - val_loss: 2.2050 - val_accuracy: 0.4019 - 37s/epoch - 53ms/step\n",
            "Epoch 4/10\n",
            "700/700 - 37s - loss: 2.1053 - accuracy: 0.4222 - val_loss: 1.9904 - val_accuracy: 0.4456 - 37s/epoch - 52ms/step\n",
            "Epoch 5/10\n",
            "700/700 - 37s - loss: 1.8899 - accuracy: 0.4731 - val_loss: 1.8320 - val_accuracy: 0.4816 - 37s/epoch - 53ms/step\n",
            "Epoch 6/10\n",
            "700/700 - 39s - loss: 1.7406 - accuracy: 0.5059 - val_loss: 1.6358 - val_accuracy: 0.5297 - 39s/epoch - 55ms/step\n",
            "Epoch 7/10\n",
            "700/700 - 37s - loss: 1.6243 - accuracy: 0.5349 - val_loss: 1.5510 - val_accuracy: 0.5684 - 37s/epoch - 54ms/step\n",
            "Epoch 8/10\n",
            "700/700 - 37s - loss: 1.5326 - accuracy: 0.5628 - val_loss: 1.5211 - val_accuracy: 0.5653 - 37s/epoch - 52ms/step\n",
            "Epoch 9/10\n",
            "700/700 - 37s - loss: 1.4485 - accuracy: 0.5844 - val_loss: 1.4392 - val_accuracy: 0.5853 - 37s/epoch - 52ms/step\n",
            "Epoch 10/10\n",
            "700/700 - 37s - loss: 1.3656 - accuracy: 0.6092 - val_loss: 1.3445 - val_accuracy: 0.6125 - 37s/epoch - 52ms/step\n"
          ]
        }
      ]
    },
    {
      "cell_type": "code",
      "source": [
        "# get an image and its actual label/class\n",
        "# the batch size in data_test is 1, each batch contains 1 sample\n",
        "# each sample is a 2d nested array. index 0= image features(x), index 1= label(y)\n",
        "test_img = data_test[0][0]          # data_test[i][x] i=ith sample, x=features\n",
        "test_label = data_test[0][1][0]     # data_test[i][y] i=ith sample, y=label array"
      ],
      "metadata": {
        "id": "Z-IQSj14b5F9"
      },
      "execution_count": null,
      "outputs": []
    },
    {
      "cell_type": "code",
      "source": [
        "# predict label\n",
        "test_label_pred = np.argmax(model.predict(test_img))"
      ],
      "metadata": {
        "colab": {
          "base_uri": "https://localhost:8080/"
        },
        "id": "kU886jotb7Lx",
        "outputId": "280e8c89-63d0-4bf2-b2f2-c987e48f1d57"
      },
      "execution_count": null,
      "outputs": [
        {
          "output_type": "stream",
          "name": "stdout",
          "text": [
            "1/1 [==============================] - 0s 200ms/step\n"
          ]
        }
      ]
    },
    {
      "cell_type": "code",
      "source": [
        "# plot results\n",
        "plt.figure(figsize=(2, 2))\n",
        "plt.imshow(test_img.reshape(28, 28), cmap='binary')\n",
        "plt.title(f'actual:{classes[test_label]}, predicted:{classes[test_label_pred]}')"
      ],
      "metadata": {
        "colab": {
          "base_uri": "https://localhost:8080/",
          "height": 254
        },
        "id": "PIIAy2wPb_LR",
        "outputId": "7eb2f4f0-5fde-4dda-e75a-faf8f9b7eb3e"
      },
      "execution_count": null,
      "outputs": [
        {
          "output_type": "execute_result",
          "data": {
            "text/plain": [
              "Text(0.5, 1.0, 'actual:S, predicted:S')"
            ]
          },
          "metadata": {},
          "execution_count": 19
        },
        {
          "output_type": "display_data",
          "data": {
            "text/plain": [
              "<Figure size 200x200 with 1 Axes>"
            ],
            "image/png": "[encoded data removed]"
          },
          "metadata": {}
        }
      ]
    }
  ]
}